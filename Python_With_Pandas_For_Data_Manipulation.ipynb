{
  "nbformat": 4,
  "nbformat_minor": 0,
  "metadata": {
    "colab": {
      "name": "Python With Pandas For Data Manipulation",
      "provenance": [],
      "collapsed_sections": [],
      "toc_visible": true,
      "include_colab_link": true
    },
    "kernelspec": {
      "display_name": "Python 3",
      "name": "python3"
    }
  },
  "cells": [
    {
      "cell_type": "markdown",
      "metadata": {
        "id": "view-in-github",
        "colab_type": "text"
      },
      "source": [
        "<a href=\"https://colab.research.google.com/github/daridr1000/freecodecamp-intro-to-pandas/blob/master/Python_With_Pandas_For_Data_Manipulation.ipynb\" target=\"_parent\"><img src=\"https://colab.research.google.com/assets/colab-badge.svg\" alt=\"Open In Colab\"/></a>"
      ]
    },
    {
      "cell_type": "markdown",
      "metadata": {
        "id": "OaiQsbpeSUrJ"
      },
      "source": [
        "# First Event"
      ]
    },
    {
      "cell_type": "markdown",
      "metadata": {
        "id": "vHUXfnNdVpzn"
      },
      "source": [
        "In this session:\r\n",
        "* Manipulate tables in python"
      ]
    },
    {
      "cell_type": "markdown",
      "metadata": {
        "id": "-NDi2ejaSgtw"
      },
      "source": [
        "* First, import the _pandas_ library so we can use it here.\r\n",
        "* Also add an alias _pd_ to it (this is the _as pd_ part of the code below)"
      ]
    },
    {
      "cell_type": "markdown",
      "metadata": {
        "id": "NaXFdKm0YZnq"
      },
      "source": [
        "## Introduction to Pandas"
      ]
    },
    {
      "cell_type": "markdown",
      "metadata": {
        "id": "jx73eIfdZU4M"
      },
      "source": [
        "### General Information"
      ]
    },
    {
      "cell_type": "code",
      "metadata": {
        "id": "RChUU_HnSXfA"
      },
      "source": [
        "import pandas as pd"
      ],
      "execution_count": null,
      "outputs": []
    },
    {
      "cell_type": "markdown",
      "metadata": {
        "id": "pOs3DHBKTRBa"
      },
      "source": [
        "Importing a CSV (comma seperated values) file:"
      ]
    },
    {
      "cell_type": "code",
      "metadata": {
        "id": "KV3qFBozTLoI"
      },
      "source": [
        "df = pd.read_csv(\"https://github.com/daridr1000/freecodecamp-intro-to-pandas/blob/master/data/btc-market-price.csv?raw=true\")"
      ],
      "execution_count": null,
      "outputs": []
    },
    {
      "cell_type": "markdown",
      "metadata": {
        "id": "lYTN1S-nTigR"
      },
      "source": [
        "df above stands for \"DataFrame\", which is what tables are called in pandas"
      ]
    },
    {
      "cell_type": "markdown",
      "metadata": {
        "id": "EltwAF4wTaWm"
      },
      "source": [
        "To find out some general information call the _describe()_ method on df:"
      ]
    },
    {
      "cell_type": "code",
      "metadata": {
        "colab": {
          "base_uri": "https://localhost:8080/",
          "height": 197
        },
        "id": "NXgy0i28ULzI",
        "outputId": "58f76411-1b8a-4b10-e57b-8cf918919717"
      },
      "source": [
        "df.head()"
      ],
      "execution_count": null,
      "outputs": [
        {
          "output_type": "execute_result",
          "data": {
            "text/html": [
              "<div>\n",
              "<style scoped>\n",
              "    .dataframe tbody tr th:only-of-type {\n",
              "        vertical-align: middle;\n",
              "    }\n",
              "\n",
              "    .dataframe tbody tr th {\n",
              "        vertical-align: top;\n",
              "    }\n",
              "\n",
              "    .dataframe thead th {\n",
              "        text-align: right;\n",
              "    }\n",
              "</style>\n",
              "<table border=\"1\" class=\"dataframe\">\n",
              "  <thead>\n",
              "    <tr style=\"text-align: right;\">\n",
              "      <th></th>\n",
              "      <th>2017-04-02 00:00:00</th>\n",
              "      <th>1099.169125</th>\n",
              "    </tr>\n",
              "  </thead>\n",
              "  <tbody>\n",
              "    <tr>\n",
              "      <th>0</th>\n",
              "      <td>2017-04-03 00:00:00</td>\n",
              "      <td>1141.813000</td>\n",
              "    </tr>\n",
              "    <tr>\n",
              "      <th>1</th>\n",
              "      <td>2017-04-04 00:00:00</td>\n",
              "      <td>1141.600363</td>\n",
              "    </tr>\n",
              "    <tr>\n",
              "      <th>2</th>\n",
              "      <td>2017-04-05 00:00:00</td>\n",
              "      <td>1133.079314</td>\n",
              "    </tr>\n",
              "    <tr>\n",
              "      <th>3</th>\n",
              "      <td>2017-04-06 00:00:00</td>\n",
              "      <td>1196.307937</td>\n",
              "    </tr>\n",
              "    <tr>\n",
              "      <th>4</th>\n",
              "      <td>2017-04-07 00:00:00</td>\n",
              "      <td>1190.454250</td>\n",
              "    </tr>\n",
              "  </tbody>\n",
              "</table>\n",
              "</div>"
            ],
            "text/plain": [
              "   2017-04-02 00:00:00  1099.169125\n",
              "0  2017-04-03 00:00:00  1141.813000\n",
              "1  2017-04-04 00:00:00  1141.600363\n",
              "2  2017-04-05 00:00:00  1133.079314\n",
              "3  2017-04-06 00:00:00  1196.307937\n",
              "4  2017-04-07 00:00:00  1190.454250"
            ]
          },
          "metadata": {
            "tags": []
          },
          "execution_count": 19
        }
      ]
    },
    {
      "cell_type": "code",
      "metadata": {
        "colab": {
          "base_uri": "https://localhost:8080/"
        },
        "id": "IBFtUIn1UOie",
        "outputId": "4df9cb0c-2872-4ff8-d339-5c65443249c9"
      },
      "source": [
        "type(df.index)"
      ],
      "execution_count": null,
      "outputs": [
        {
          "output_type": "execute_result",
          "data": {
            "text/plain": [
              "pandas.core.indexes.range.RangeIndex"
            ]
          },
          "metadata": {
            "tags": []
          },
          "execution_count": 14
        }
      ]
    },
    {
      "cell_type": "markdown",
      "metadata": {
        "id": "0EXARDoqZXzI"
      },
      "source": [
        "### Selection"
      ]
    },
    {
      "cell_type": "markdown",
      "metadata": {
        "id": "RLM94lHgZbui"
      },
      "source": [
        "### Manipulation"
      ]
    },
    {
      "cell_type": "markdown",
      "metadata": {
        "id": "iFkf_AeKZj8Q"
      },
      "source": [
        "## In Practice"
      ]
    },
    {
      "cell_type": "markdown",
      "metadata": {
        "id": "VOPacfO9ZoPC"
      },
      "source": [
        "* What is the best movie release in the year 2000?\r\n",
        "* Which country has produced the most movies since 1970?"
      ]
    },
    {
      "cell_type": "markdown",
      "metadata": {
        "id": "9D7-OlxrSRxb"
      },
      "source": [
        "# Second Event"
      ]
    },
    {
      "cell_type": "code",
      "metadata": {
        "id": "EnfJJewuRiCC"
      },
      "source": [
        "!pip install yfinance"
      ],
      "execution_count": null,
      "outputs": []
    },
    {
      "cell_type": "code",
      "metadata": {
        "colab": {
          "base_uri": "https://localhost:8080/",
          "height": 432
        },
        "id": "KIzxw4guRXBF",
        "outputId": "89a5e659-c08d-4c00-f3ef-6d98b1e7fdd9"
      },
      "source": [
        "from matplotlib import pyplot as plt\r\n",
        "\r\n",
        "import yfinance as yf\r\n",
        "\r\n",
        "data = yf.download(tickers='TSLA', period='1d', interval='1m')\r\n",
        "\r\n",
        "print(data.describe())\r\n",
        "\r\n",
        "data.to_csv(\"output.csv\")\r\n",
        "\r\n",
        "plt.plot(data['High'])\r\n",
        "plt.show()"
      ],
      "execution_count": null,
      "outputs": [
        {
          "output_type": "stream",
          "text": [
            "\r[*********************100%***********************]  1 of 1 completed\n",
            "             Open        High         Low       Close   Adj Close        Volume\n",
            "count  387.000000  387.000000  387.000000  387.000000  387.000000  3.870000e+02\n",
            "mean   684.868852  685.616734  684.112780  684.916777  684.916777  8.444795e+04\n",
            "std      5.473990    5.277839    5.650650    5.458391    5.458391  1.051737e+05\n",
            "min    669.270020  669.669922  667.510010  669.000000  669.000000  1.624600e+04\n",
            "25%    681.165009  682.289948  680.237701  681.212494  681.212494  4.465400e+04\n",
            "50%    686.349976  686.815002  685.599976  686.405029  686.405029  6.411800e+04\n",
            "75%    688.875000  689.478821  688.309998  688.934998  688.934998  9.873850e+04\n",
            "max    694.442993  694.880005  693.810974  694.392883  694.392883  1.831066e+06\n"
          ],
          "name": "stdout"
        },
        {
          "output_type": "display_data",
          "data": {
            "image/png": "[encoded data removed]",
            "text/plain": [
              "<Figure size 432x288 with 1 Axes>"
            ]
          },
          "metadata": {
            "tags": []
          }
        }
      ]
    }
  ]
}